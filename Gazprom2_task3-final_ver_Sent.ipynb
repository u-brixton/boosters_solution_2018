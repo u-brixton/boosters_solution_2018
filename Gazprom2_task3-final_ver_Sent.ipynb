{
 "cells": [
  {
   "cell_type": "markdown",
   "metadata": {},
   "source": [
    "## Задаем различные вспомогательные функции"
   ]
  },
  {
   "cell_type": "code",
   "execution_count": 108,
   "metadata": {
    "scrolled": false
   },
   "outputs": [],
   "source": [
    "def Diff(li1, li2): \n",
    "    return (list(set(li1) - set(li2)))\n",
    "\n",
    "def mae(y_pred, targ):\n",
    "    return np.abs(y_pred-targ).mean()\n",
    "\n",
    "def get_last_els(df,val_col,n=12):\n",
    "    val_idx=df.groupby(val_col).tail(n).index\n",
    "    val_perc=df.iloc[val_idx,:].shape[0]/df.shape[0]\n",
    "    val_idx_bool=np.array(df[val_col].index.isin(val_idx))\n",
    "    print(f'Данная валидационная выборка составит {round(val_perc*100,1)}% от общей выборки по числу элементов')\n",
    "    return(val_idx_bool)\n",
    "     \n",
    "def print_score(m,prints=True):\n",
    "    n_round=5\n",
    "    \n",
    "    #дисперсия по деревьям\n",
    "    preds = np.stack([t.predict(df_val) for t in m.estimators_])\n",
    "    m_var=np.std(preds[:,0])\n",
    "    \n",
    "    res = [mae(m.predict(df_trn), y_trn), mae(m.predict(df_val), y_val),\n",
    "                m.score(df_trn, y_trn), m.score(df_val, y_val),m_var]\n",
    "    \n",
    "    if hasattr(m, 'oob_score_'): res.append(round(m.oob_score_,n_round))\n",
    "    \n",
    "    if prints==True: \n",
    "        print(['MAE_trn','MAE_val','score_trn','score_val','T_var','OOB(if present)'])\n",
    "        print([ '%.2f' % elem for elem in res]) \n",
    "    else: \n",
    "        return(res)"
   ]
  },
  {
   "cell_type": "markdown",
   "metadata": {},
   "source": [
    "## Загрузка библиотек"
   ]
  },
  {
   "cell_type": "code",
   "execution_count": 109,
   "metadata": {
    "scrolled": false
   },
   "outputs": [],
   "source": [
    "%reload_ext autoreload\n",
    "%autoreload 2\n",
    "%matplotlib inline\n",
    "\n",
    "import numpy as np\n",
    "import pandas as pd\n",
    "import lasio\n",
    "from sklearn.utils import shuffle\n",
    "from datetime import datetime\n",
    "from copy import *\n",
    "import matplotlib.pyplot as plt\n",
    "import math\n",
    "from sklearn.ensemble import RandomForestRegressor\n",
    "from rfpimp import *\n",
    "import xgboost as xgb\n",
    "import random\n",
    "\n",
    "from fastai.structured import *\n",
    "from fastai.column_data import *"
   ]
  },
  {
   "cell_type": "markdown",
   "metadata": {},
   "source": [
    "## Загрузка данных"
   ]
  },
  {
   "cell_type": "code",
   "execution_count": 110,
   "metadata": {
    "scrolled": false
   },
   "outputs": [],
   "source": [
    "PATH_oil=\"data/Gazprom2/\"\n",
    "PATH_oil3=\"data/Gazprom2/task_3/\""
   ]
  },
  {
   "cell_type": "code",
   "execution_count": 111,
   "metadata": {},
   "outputs": [],
   "source": [
    "#загружаем train и test\n",
    "raw_train=pd.read_csv(f'{PATH_oil3}train (3task).csv',encoding=\"cp1251\")\n",
    "raw_test=pd.read_csv(f'{PATH_oil3}test_before.csv',encoding=\"cp1251\")\n",
    "raw_test_nag=pd.read_csv(f'{PATH_oil3}test_after_X.csv',encoding=\"cp1251\")\n",
    "\n",
    "order=pd.read_csv(f'{PATH_oil}order3.csv',encoding=\"cp1251\")\n",
    "\n",
    "#и загружаем дополнительные файлы\n",
    "raw_gdis=pd.read_csv(f'{PATH_oil3}additional/ГДИС.csv',encoding=\"cp1251\")\n",
    "raw_gdis2=pd.read_csv(f'{PATH_oil3}additional/ГДИС2.csv',encoding=\"cp1251\")\n",
    "raw_gtm=pd.read_csv(f'{PATH_oil3}additional/ГТМ.csv',encoding=\"cp1251\")\n",
    "raw_rigis=pd.read_csv(f'{PATH_oil3}additional/РИГИС.csv',encoding=\"cp1251\")\n",
    "raw_else=pd.read_csv(f'{PATH_oil3}additional/Доп.csv',encoding=\"cp1251\")"
   ]
  },
  {
   "cell_type": "markdown",
   "metadata": {},
   "source": [
    "## Очищаем данные и добавляем новые переменные"
   ]
  },
  {
   "cell_type": "code",
   "execution_count": 112,
   "metadata": {},
   "outputs": [
    {
     "data": {
      "text/plain": [
       "0"
      ]
     },
     "execution_count": 112,
     "metadata": {},
     "output_type": "execute_result"
    }
   ],
   "source": [
    "sum(raw_test['Нефть, м3'].isna())"
   ]
  },
  {
   "cell_type": "code",
   "execution_count": 113,
   "metadata": {
    "scrolled": false
   },
   "outputs": [],
   "source": [
    "##изменяем формат числовых данных - заменяем запятые на точки, где необходимо\n",
    "train=raw_train.replace(',','.', regex=True)\n",
    "test=raw_test.replace(',','.', regex=True)\n",
    "\n",
    "##cтрочек с пустыми значениями по целевой переменной в test и train нет, убирать нечего\n",
    "rows_w_oil=(train['Нефть, м3'].notna())\n",
    "train=train.loc[rows_w_oil,:]"
   ]
  },
  {
   "cell_type": "code",
   "execution_count": 114,
   "metadata": {},
   "outputs": [],
   "source": [
    "##так как целевая переменная - добыча нефти в м3, то убираем дублирующую переменную в другой размерности - добычу в т\n",
    "test=test.drop('Нефть, т',axis=1)\n",
    "train=train.drop('Нефть, т',axis=1)"
   ]
  },
  {
   "cell_type": "code",
   "execution_count": 115,
   "metadata": {
    "scrolled": false
   },
   "outputs": [],
   "source": [
    "##Переводим переменные с датой в новые колонки и категории\n",
    "dtime_vars=['Дата','Дата ввода в эксплуатацию','Дата перевода в ППД']\n",
    "dmonths_vars=['Месяцев с пуска','Месяцев с ввода в эксплуатацию','Месяцев с перевода в ППД']\n",
    "\n",
    "train.loc[:,'Дата']=pd.to_datetime(train.loc[:,'Дата']);\n",
    "test.loc[:,'Дата']=pd.to_datetime(test.loc[:,'Дата'])\n",
    "\n",
    "train['Кал.месяц']=train.loc[:,'Дата'].dt.month\n",
    "test['Кал.месяц']=test.loc[:,'Дата'].dt.month\n",
    "\n",
    "train['Кал.год']=train.loc[:,'Дата'].dt.year\n",
    "test['Кал.год']=test.loc[:,'Дата'].dt.year\n",
    "\n",
    "\n",
    "train['Дата ввода в эксплуатацию']=(pd.TimedeltaIndex(train.loc[:,'Дата ввода в эксплуатацию'],unit=\"d\")+datetime.datetime(1900,1,1))\n",
    "test['Дата ввода в эксплуатацию']=(pd.TimedeltaIndex(test.loc[:,'Дата ввода в эксплуатацию'],unit=\"d\")+datetime.datetime(1900,1,1))\n",
    "    \n",
    "train['Месяцев с ввода в эксплуатацию']=(train['Дата'].subtract(train['Дата ввода в эксплуатацию'])).dt.days//30\n",
    "test['Месяцев с ввода в эксплуатацию']=(test['Дата'].subtract(test['Дата ввода в эксплуатацию'])).dt.days//30\n",
    "\n",
    "train['Месяцев с перевода в ППД']=(train['Дата'].subtract(train['Дата ввода в эксплуатацию'])).dt.days//30\n",
    "test['Месяцев с перевода в ППД']=(test['Дата'].subtract(test['Дата ввода в эксплуатацию'])).dt.days//30\n",
    "\n",
    "\n",
    "train['Месяц']=train.groupby('Скважина').cumcount()+1\n",
    "test['Месяц']=test.groupby('Скважина').cumcount()+1\n",
    "\n",
    "##Записываем, какие новые категорийные переменные получились из дат, сами колонки с датами удаляем\n",
    "dtime_cat_vars=['Кал.месяц','']\n",
    "all_date_vars=dmonths_vars+['Месяц','Кал.месяц','Кал.год']\n",
    "\n",
    "#убираем колонки с изначальными необработанными переменными\n",
    "test=test.drop(dtime_vars,axis=1)\n",
    "train=train.drop(dtime_vars,axis=1).reset_index(drop=True)"
   ]
  },
  {
   "cell_type": "code",
   "execution_count": 116,
   "metadata": {},
   "outputs": [],
   "source": [
    "#по этой колонке нет данных ни по одному из наблюдений\n",
    "train=train.drop(['Природный газ, м3'],axis=1)\n",
    "test=test.drop(['Природный газ, м3'],axis=1)"
   ]
  },
  {
   "cell_type": "code",
   "execution_count": 117,
   "metadata": {},
   "outputs": [],
   "source": [
    "##делаем нижний регистр у значимых текстовых переменных\n",
    "train['Причина простоя']=train['Причина простоя'].str.lower()\n",
    "test['Причина простоя']=test['Причина простоя'].str.lower()"
   ]
  },
  {
   "cell_type": "code",
   "execution_count": 118,
   "metadata": {
    "scrolled": false
   },
   "outputs": [],
   "source": [
    "##!! Месяц указан в качестве численной переменной, не категориальной\n",
    "##указываем категорийные переменные\n",
    "cat_vars=['Скважина','Характер работы','Состояние','Причина простоя','Агент закачки',\n",
    "          'Тип скважины','Способ эксплуатации','Тип насоса','Состояние на конец месяца',\n",
    "          'group','completion','work_character']+['Кал.месяц']\n",
    "\n",
    "##и указываем числовые переменные\n",
    "contin_vars_test=Diff(test.columns,cat_vars)\n",
    "contin_vars_train=Diff(train.columns,cat_vars)"
   ]
  },
  {
   "cell_type": "code",
   "execution_count": 119,
   "metadata": {
    "scrolled": false
   },
   "outputs": [],
   "source": [
    "##указываем корректный тип для каждой переменной\n",
    "for v in cat_vars: \n",
    "    train[v] = train[v].astype('category')\n",
    "    test[v] = test[v].astype('category')\n",
    "    \n",
    "for v in contin_vars_train:\n",
    "    #print(v)\n",
    "    train[v] = train[v].astype('float32')\n",
    "\n",
    "for v in contin_vars_test:\n",
    "    test[v] = test[v].astype('float32') "
   ]
  },
  {
   "cell_type": "code",
   "execution_count": 120,
   "metadata": {},
   "outputs": [],
   "source": [
    "train.reset_index(inplace=True,drop=True)\n",
    "test.reset_index(inplace=True,drop=True)"
   ]
  },
  {
   "cell_type": "code",
   "execution_count": 121,
   "metadata": {},
   "outputs": [
    {
     "data": {
      "text/plain": [
       "37"
      ]
     },
     "execution_count": 121,
     "metadata": {},
     "output_type": "execute_result"
    }
   ],
   "source": [
    "order_idxs=order['well'].tolist()\n",
    "len(order_idxs)"
   ]
  },
  {
   "cell_type": "markdown",
   "metadata": {},
   "source": [
    "## Смотрим на данные"
   ]
  },
  {
   "cell_type": "code",
   "execution_count": 122,
   "metadata": {},
   "outputs": [
    {
     "name": "stdout",
     "output_type": "stream",
     "text": [
      "['2016-08-01' '2016-12-01']\n",
      "['2017-12-01' '2013-08-01' '2017-10-01' '2014-03-01' '2016-08-01' '2017-09-01' '2013-10-01']\n"
     ]
    }
   ],
   "source": [
    "#в test датасет всего две даты, по которым мы предсказываем, в train 7\n",
    "\n",
    "print(raw_test.groupby('Скважина').tail(1)['Дата'].unique())\n",
    "print(raw_train.groupby('Скважина').tail(1)['Дата'].unique())"
   ]
  },
  {
   "cell_type": "code",
   "execution_count": 123,
   "metadata": {
    "scrolled": true
   },
   "outputs": [
    {
     "data": {
      "text/html": [
       "<div>\n",
       "<style scoped>\n",
       "    .dataframe tbody tr th:only-of-type {\n",
       "        vertical-align: middle;\n",
       "    }\n",
       "\n",
       "    .dataframe tbody tr th {\n",
       "        vertical-align: top;\n",
       "    }\n",
       "\n",
       "    .dataframe thead th {\n",
       "        text-align: right;\n",
       "    }\n",
       "</style>\n",
       "<table border=\"1\" class=\"dataframe\">\n",
       "  <thead>\n",
       "    <tr style=\"text-align: right;\">\n",
       "      <th></th>\n",
       "      <th>count</th>\n",
       "      <th>unique</th>\n",
       "      <th>top</th>\n",
       "      <th>freq</th>\n",
       "    </tr>\n",
       "  </thead>\n",
       "  <tbody>\n",
       "    <tr>\n",
       "      <th>Скважина</th>\n",
       "      <td>4156</td>\n",
       "      <td>57</td>\n",
       "      <td>4efe49f90af162c2</td>\n",
       "      <td>151</td>\n",
       "    </tr>\n",
       "    <tr>\n",
       "      <th>Характер работы</th>\n",
       "      <td>4148</td>\n",
       "      <td>3</td>\n",
       "      <td>НЕФ</td>\n",
       "      <td>2742</td>\n",
       "    </tr>\n",
       "    <tr>\n",
       "      <th>Состояние</th>\n",
       "      <td>4148</td>\n",
       "      <td>7</td>\n",
       "      <td>РАБ.</td>\n",
       "      <td>3852</td>\n",
       "    </tr>\n",
       "    <tr>\n",
       "      <th>Причина простоя</th>\n",
       "      <td>605</td>\n",
       "      <td>43</td>\n",
       "      <td>геологич.причина</td>\n",
       "      <td>173</td>\n",
       "    </tr>\n",
       "    <tr>\n",
       "      <th>Агент закачки</th>\n",
       "      <td>1399</td>\n",
       "      <td>12</td>\n",
       "      <td>Вода пресная+подтоварная.м.куб.</td>\n",
       "      <td>998</td>\n",
       "    </tr>\n",
       "    <tr>\n",
       "      <th>Тип скважины</th>\n",
       "      <td>544</td>\n",
       "      <td>2</td>\n",
       "      <td>Наклонно-направленно</td>\n",
       "      <td>519</td>\n",
       "    </tr>\n",
       "    <tr>\n",
       "      <th>Способ эксплуатации</th>\n",
       "      <td>1291</td>\n",
       "      <td>1</td>\n",
       "      <td>ЭЦН</td>\n",
       "      <td>1291</td>\n",
       "    </tr>\n",
       "    <tr>\n",
       "      <th>Тип насоса</th>\n",
       "      <td>1291</td>\n",
       "      <td>69</td>\n",
       "      <td>FC-450(50)-2400</td>\n",
       "      <td>101</td>\n",
       "    </tr>\n",
       "    <tr>\n",
       "      <th>Состояние на конец месяца</th>\n",
       "      <td>1291</td>\n",
       "      <td>2</td>\n",
       "      <td>В работе</td>\n",
       "      <td>1268</td>\n",
       "    </tr>\n",
       "    <tr>\n",
       "      <th>group</th>\n",
       "      <td>4156</td>\n",
       "      <td>15</td>\n",
       "      <td>ee5be9e112b427792382aec391b99b35f7f247712e6871...</td>\n",
       "      <td>504</td>\n",
       "    </tr>\n",
       "    <tr>\n",
       "      <th>completion</th>\n",
       "      <td>4003</td>\n",
       "      <td>4</td>\n",
       "      <td>ГРП</td>\n",
       "      <td>2148</td>\n",
       "    </tr>\n",
       "    <tr>\n",
       "      <th>work_character</th>\n",
       "      <td>4003</td>\n",
       "      <td>2</td>\n",
       "      <td>Доб.</td>\n",
       "      <td>2653</td>\n",
       "    </tr>\n",
       "    <tr>\n",
       "      <th>Кал.месяц</th>\n",
       "      <td>4156</td>\n",
       "      <td>12</td>\n",
       "      <td>12</td>\n",
       "      <td>370</td>\n",
       "    </tr>\n",
       "  </tbody>\n",
       "</table>\n",
       "</div>"
      ],
      "text/plain": [
       "                          count unique  \\\n",
       "Скважина                   4156     57   \n",
       "Характер работы            4148      3   \n",
       "Состояние                  4148      7   \n",
       "Причина простоя             605     43   \n",
       "Агент закачки              1399     12   \n",
       "Тип скважины                544      2   \n",
       "Способ эксплуатации        1291      1   \n",
       "Тип насоса                 1291     69   \n",
       "Состояние на конец месяца  1291      2   \n",
       "group                      4156     15   \n",
       "completion                 4003      4   \n",
       "work_character             4003      2   \n",
       "Кал.месяц                  4156     12   \n",
       "\n",
       "                                                                         top  \\\n",
       "Скважина                                                    4efe49f90af162c2   \n",
       "Характер работы                                                          НЕФ   \n",
       "Состояние                                                               РАБ.   \n",
       "Причина простоя                                             геологич.причина   \n",
       "Агент закачки                                Вода пресная+подтоварная.м.куб.   \n",
       "Тип скважины                                            Наклонно-направленно   \n",
       "Способ эксплуатации                                                      ЭЦН   \n",
       "Тип насоса                                                   FC-450(50)-2400   \n",
       "Состояние на конец месяца                                           В работе   \n",
       "group                      ee5be9e112b427792382aec391b99b35f7f247712e6871...   \n",
       "completion                                                               ГРП   \n",
       "work_character                                                          Доб.   \n",
       "Кал.месяц                                                                 12   \n",
       "\n",
       "                           freq  \n",
       "Скважина                    151  \n",
       "Характер работы            2742  \n",
       "Состояние                  3852  \n",
       "Причина простоя             173  \n",
       "Агент закачки               998  \n",
       "Тип скважины                519  \n",
       "Способ эксплуатации        1291  \n",
       "Тип насоса                  101  \n",
       "Состояние на конец месяца  1268  \n",
       "group                       504  \n",
       "completion                 2148  \n",
       "work_character             2653  \n",
       "Кал.месяц                   370  "
      ]
     },
     "execution_count": 123,
     "metadata": {},
     "output_type": "execute_result"
    }
   ],
   "source": [
    "test.loc[:,cat_vars].describe().T"
   ]
  },
  {
   "cell_type": "code",
   "execution_count": 124,
   "metadata": {
    "scrolled": true
   },
   "outputs": [
    {
     "name": "stdout",
     "output_type": "stream",
     "text": [
      "Скважина\n",
      "4efe49f90af162c2    151\n",
      "83be5d1c5fb93b67    147\n",
      "eeface5ca8a6ff24    144\n",
      "39b232e45da7c166    135\n",
      "b02ff013cb23ad9b    135\n",
      "aeaa64470ff6bd59    132\n",
      "ddc0209847c13f1b    128\n",
      "0b68e26f46bae74f    128\n",
      "99306579d8299a91    127\n",
      "86762013dc493dce    126\n",
      "e1e6e4edd41a315e    120\n",
      "0e754bc19b0d9695    115\n",
      "e8abd10121f7d96d    107\n",
      "6e137deda35d1d66    106\n",
      "8a03ebe106c3add6    104\n",
      "5ce966c2d0a84b62    103\n",
      "b68bd6ef5017d242    101\n",
      "da7fd1a787647089    100\n",
      "a6eb6feaa197289d     99\n",
      "65c27b87823926b4     98\n",
      "2b59cbf6b8e46e09     77\n",
      "3c4dd52dd0414853     69\n",
      "074ff5b673b5e80d     68\n",
      "1e6133531afe2bd9     67\n",
      "d1eabf3ed0d2cdf9     67\n",
      "0a6c7b090c4b4e56     67\n",
      "2f168cbb00dddf74     66\n",
      "d2fb33a8b5e5cb0f     66\n",
      "1d5ef943084c0700     66\n",
      "06413e50041826de     61\n",
      "bbb5771f792375a4     58\n",
      "c1446cf9b7dd85a2     57\n",
      "f541721f00eca36c     56\n",
      "69a24ab98854746d     56\n",
      "0089b3f545d8b49c     56\n",
      "97f3124fb368047e     56\n",
      "2d88d48bccef66d4     54\n",
      "dc8a19a94b101917     54\n",
      "ec2154bcc9d1dc11     51\n",
      "b144ac1e5de8c3fc     51\n",
      "97a4b8aef3521c8f     49\n",
      "acc4a8eb269d7863     46\n",
      "3b3ed1dcab281038     45\n",
      "f0b4591990597157     44\n",
      "8151d8d3fef287f0     40\n",
      "acfc7243c483a564     39\n",
      "7dd35a85e7d30881     37\n",
      "8b85a87f51cf23bf     36\n",
      "25c0abad7d8ed2a0     34\n",
      "390ee9791bc03d1b     33\n",
      "d04cc49b4f2a5202     33\n",
      "f0e7468fe7c3d66f     31\n",
      "8db289b66ad73078     29\n",
      "a9b81d5df2e4d43c     18\n",
      "b1836f2a29fdebf0      6\n",
      "5bbf510fefb48815      4\n",
      "c57d387dd44389e9      3\n",
      "Name: Скважина, dtype: int64\n",
      "Характер работы\n",
      "НЕФ        2742\n",
      "НАГ        1382\n",
      "НЕФ/НАГ      24\n",
      "Name: Характер работы, dtype: int64\n",
      "Состояние\n",
      "РАБ.         3852\n",
      "ОСТ.          203\n",
      "ОСВ ТГ         65\n",
      "Б/Д ТГ         19\n",
      "ПЬЕЗ            6\n",
      "ОЖ ОСВ ТГ       2\n",
      "Б/Д ПР Л        1\n",
      "Name: Состояние, dtype: int64\n",
      "Причина простоя\n",
      "геологич.причина             173\n",
      "останов по распоряжен.       127\n",
      "r=0                           74\n",
      "перев.под цикл                28\n",
      "нет подачи                    25\n",
      "прочие                        18\n",
      "бурение соседн.скваж.         18\n",
      "перевод в ппд                 17\n",
      "ремонт соседней скважина      16\n",
      "грп                           16\n",
      "заклинивание насос            13\n",
      "нет приемистости               9\n",
      "отключение напряжения          8\n",
      "ревиз.подзем.оборудования      8\n",
      "спуск оптимaльного нaсосa      6\n",
      "принята в освоение             5\n",
      "техническ.причина              5\n",
      "прочие aвaрии                  4\n",
      "технолог.причина               4\n",
      "неисправ.глуб.оборуд.          3\n",
      "прекращ.фонтанир.              2\n",
      "внедрен.орэ.орз.тпк.всг        2\n",
      "замена пaкерa                  2\n",
      "заморожен коллектор            2\n",
      "ожидан.исследован.             2\n",
      "высокое напряжение             1\n",
      "ввод новой скважины            1\n",
      "затяжка шгн                    1\n",
      "извлеч.приборa с кaбелем       1\n",
      "сменa уэцн                     1\n",
      "нет притока жидк.              1\n",
      "останов.по обводнен.           1\n",
      "сменa устьевой aрмaтуры        1\n",
      "отключение фидера              1\n",
      "перевод из цппд в цднг         1\n",
      "перевод нa эцн                 1\n",
      "перевод скв.в другой фонд      1\n",
      "перегруз                       1\n",
      "профилaктикa орэ.орз.всг       1\n",
      "ревизия обратного клапана      1\n",
      "ремонт станции управ.с/к       1\n",
      "ркол > pскв                    1\n",
      "эксперем.рaб.по рaзр.мест      1\n",
      "Name: Причина простоя, dtype: int64\n",
      "Агент закачки\n",
      "Вода пресная+подтоварная.м.куб.                                  998\n",
      "Вода подтоварная.м.куб.                                          293\n",
      "Вода сеноманская+подтоварная. м.куб                               35\n",
      "в/пр.                                                             30\n",
      "Вода сеноманская                                                  18\n",
      "Вода подтоварная.м.куб..                                          12\n",
      "Вода пресная+подтоварная.м.куб..                                   7\n",
      "Вода пресная+подтоварная.м.куб.. Вода подтоварная.м.куб.           2\n",
      "в/пр.. Вода сеноманская+подтоварная. м.куб                         1\n",
      "Вода сеноманская. Вода подтоварная.м.куб.. в/пр.                   1\n",
      "Вода сеноманская+подтоварная. м.куб. Вода подтоварная.м.куб..      1\n",
      "Вода пресная+подтоварная.м.куб.. . Вода подтоварная.м.куб.         1\n",
      "Name: Агент закачки, dtype: int64\n",
      "Тип скважины\n",
      "Наклонно-направленно    519\n",
      "Вертикально              25\n",
      "Name: Тип скважины, dtype: int64\n",
      "Способ эксплуатации\n",
      "ЭЦН    1291\n",
      "Name: Способ эксплуатации, dtype: int64\n",
      "Тип насоса\n",
      "FC-450(50)-2400          101\n",
      "FC-650(80)-2400           90\n",
      "ВНН5-79-2400              79\n",
      "FC-450(50)-2300           60\n",
      "FC-925(125)-2400          48\n",
      "ВНН-59-2350               44\n",
      "D1000EZ-2350              43\n",
      "ВНН5-79-2200              39\n",
      "FC P-3-2400               39\n",
      "ЭЦНКИД 5a-125-2400        37\n",
      "ВНН-79-2400               37\n",
      "D700EZ-2350               30\n",
      "D420EZ-2350               30\n",
      "D1000EZ-2300              26\n",
      "ВНН5-44-2250              24\n",
      "ВНН5-44-2200              23\n",
      "FC P-10-2450              23\n",
      "ВНН5-44-2400              22\n",
      "ВНН5-124-2400             21\n",
      "FC P-6-2400               21\n",
      "ВНН5-159-2400             21\n",
      "ЭЦНКИД 5-50-2500          21\n",
      "FC-925(125)-2300          19\n",
      "ВНН-79-2300               19\n",
      "FC-650(80)-2300           19\n",
      "FC Р-10-2400              18\n",
      "ВНН5-30-2400              18\n",
      "FC Р-4-2200               17\n",
      "ЭЦНКИД 5-80-2350          17\n",
      "ВНН-79-2450               16\n",
      "                        ... \n",
      "ВНН5-125-2400 Новомет     10\n",
      "ЭЦН (МТ)-80-2500           9\n",
      "ВНН-199-2300               9\n",
      "ВНН5-79-2300               9\n",
      "FC-1200-2250               9\n",
      "ВНН5-44-2350               9\n",
      "D1000EZ-2500               9\n",
      "ВНН-124-2400               8\n",
      "ВНН-280-2250               8\n",
      "ВНН-79-2350                8\n",
      "ВНН-30-2450                8\n",
      "ЭЦН-125-2300               7\n",
      "FC Р-3-2300                7\n",
      "ВНН-280-2200               6\n",
      "D1000EZ-2200               5\n",
      "FC P-4-2350                4\n",
      "D700EZ-2400                4\n",
      "FC-650(80)-2450            4\n",
      "ЭЦНД-80-2350               4\n",
      "ЭЦНКИД 5-80-2600           3\n",
      "ВНН5-59-2450               3\n",
      "FC Р-6-2400                3\n",
      "FC P-3-2300                2\n",
      "D700EZ-2500                2\n",
      "ВНН-159-2300               1\n",
      "FC-450(50)-2200            1\n",
      "ВНН-100-2350               1\n",
      "SPI D-8-2250               1\n",
      "ВНН-59-2400                1\n",
      "FC-450(50)-2350            1\n",
      "Name: Тип насоса, Length: 69, dtype: int64\n",
      "Состояние на конец месяца\n",
      "В работе       1268\n",
      "Остановлена      23\n",
      "Name: Состояние на конец месяца, dtype: int64\n",
      "group\n",
      "ee5be9e112b427792382aec391b99b35f7f247712e6871c6ee5e6106    504\n",
      "66309bde9496fc61c63c72370315e82953b8a531a16898ae9372903f    402\n",
      "e8e518b15b8dbdd2a39b71b509863fcd81830acf219985fdf6288c4e    400\n",
      "2a2e26224313c7b7d2ac3bdeaa56e11545bbd1941deed7c189df0851    387\n",
      "cfac47595831dcd5caa496eea1d1f81a8c17fcb06a1a9fe17e051403    375\n",
      "965290d5c374dcfdb8554124265089a3e43f9b9fbabc7c0d8212254c    344\n",
      "47d145ffa49b58cc611bd2c1df02d84cd4abbdb7710d43dc6476340b    329\n",
      "45598589382e2135a3b3a7529de0e8be7ca46990a28d9f9579c546be    267\n",
      "73d76edfae121563cde932dfa09afd96b3ee2e7c87e238eaa6ef0bbb    213\n",
      "478218f27126080fe492a09a7c5ad388892d9f8d6d81da887534901d    211\n",
      "fbbad2c0d1da0c9ef209986bbef77b2b80a73fc1f4f6883fe05a925a    195\n",
      "0e52b0147456423507409b6ce495413f162bbc509c7b07364450f470    145\n",
      "baddf234b4fff462a529727cd2c9ad19ccf4d571d420bbb568c9c522    137\n",
      "4c1114b1da73ea2a4537079ffb565655f0a3535352c1590cb2cb6619    128\n",
      "ad397b2fe4d87f4a2ec2b06d35f06ba71bacaa69a95303a67fa1eb3e    119\n",
      "Name: group, dtype: int64\n",
      "completion\n",
      "ГРП     2148\n",
      "ВС      1714\n",
      "МГРП     106\n",
      "ГС        35\n",
      "Name: completion, dtype: int64\n",
      "work_character\n",
      "Доб.     2653\n",
      "Нагн.    1350\n",
      "Name: work_character, dtype: int64\n",
      "Кал.месяц\n",
      "12    370\n",
      "11    367\n",
      "10    366\n",
      "9     359\n",
      "8     359\n",
      "7     355\n",
      "6     347\n",
      "5     338\n",
      "4     329\n",
      "3     325\n",
      "2     321\n",
      "1     320\n",
      "Name: Кал.месяц, dtype: int64\n"
     ]
    }
   ],
   "source": [
    "for c in cat_vars:\n",
    "    print(c)\n",
    "    print(test[c].value_counts())"
   ]
  },
  {
   "cell_type": "code",
   "execution_count": 125,
   "metadata": {},
   "outputs": [
    {
     "name": "stdout",
     "output_type": "stream",
     "text": [
      "Из 175 скважин в train у [75] или [42.9]% медиана=0\n",
      "Из 57 скважин в test у [16] или [28.1]% медиана=0\n"
     ]
    }
   ],
   "source": [
    "##Смотрим, сколько скважин с медианой около нуля\n",
    "zerom_wells_train=train.groupby('Скважина')['Скважина','Нефть, м3'].median().sort_values('Нефть, м3')==0\n",
    "zerom_wells_train_n=sum(zerom_wells_train.values)\n",
    "train_len=len(train['Скважина'].unique())\n",
    "zerom_wells_test=test.groupby('Скважина')['Скважина','Нефть, м3'].median().sort_values('Нефть, м3')==0\n",
    "zerom_wells_test_n=sum(zerom_wells_test.values)\n",
    "test_len=len(test['Скважина'].unique())\n",
    "\n",
    "\n",
    "print(f'Из {train_len} скважин в train у {zerom_wells_train_n} или {np.round(zerom_wells_train_n/train_len*100,1)}% медиана=0')\n",
    "print(f'Из {test_len} скважин в test у {zerom_wells_test_n} или {np.round(zerom_wells_test_n/test_len*100,1)}% медиана=0')"
   ]
  },
  {
   "cell_type": "code",
   "execution_count": 126,
   "metadata": {},
   "outputs": [],
   "source": [
    "cols_per_var=train.groupby('Скважина').std().divide(train.groupby('Скважина').mean(),level='Скважина').mean(axis=0).sort_values()\n",
    "#display(cols_per_var.tail(40))"
   ]
  },
  {
   "cell_type": "markdown",
   "metadata": {},
   "source": [
    "## Создаём тестовый и валидационный датасеты"
   ]
  },
  {
   "cell_type": "code",
   "execution_count": 127,
   "metadata": {},
   "outputs": [
    {
     "name": "stdout",
     "output_type": "stream",
     "text": [
      "(444, 86)\n",
      "444\n"
     ]
    }
   ],
   "source": [
    "##создаем новую тестовую выборку для прогноза\n",
    "test_copy=deepcopy(test)\n",
    "test_copy['Дата']=pd.to_datetime(raw_test['Дата'])\n",
    "test_lasts=deepcopy(test_copy.groupby('Скважина').tail(1))\n",
    "\n",
    "test_list=[]\n",
    "for i in range(0,12):\n",
    "    temp_test=test_lasts.drop(['Кал.месяц','Месяц','Дата'],axis=1).drop(['Кал.год'],axis=1)\n",
    "    \n",
    "    temp_test['Дата']=test_lasts['Дата'].apply(lambda x:x+pd.DateOffset(months=i+1))\n",
    "    temp_test['Месяц']=test_lasts['Месяц']+i+1\n",
    "    temp_test['Кал.месяц']=temp_test.loc[:,'Дата'].dt.month\n",
    "    temp_test['Кал.год']=temp_test.loc[:,'Дата'].dt.year\n",
    "    temp_test=temp_test.drop('Дата',axis=1)\n",
    "    temp_test=temp_test.set_index('Скважина').loc[order_idxs,:].reset_index(drop=False)\n",
    "    test_list.append(temp_test)\n",
    "    \n",
    "test_fcst=pd.concat(test_list)\n",
    "print(test_fcst.shape)\n",
    "print(len(order_idxs)*12)"
   ]
  },
  {
   "cell_type": "code",
   "execution_count": 128,
   "metadata": {},
   "outputs": [],
   "source": [
    "#создаём большую выборку для обучения из all_train - объединяем вместе test и train\n",
    "all_train=pd.concat([train,test])"
   ]
  },
  {
   "cell_type": "code",
   "execution_count": 129,
   "metadata": {},
   "outputs": [
    {
     "name": "stdout",
     "output_type": "stream",
     "text": [
      "(2673, 86)\n",
      "(232, 87)\n"
     ]
    }
   ],
   "source": [
    "##создаем корректную валидационную выборку для прогноза - используем последние 12 месяцев по тем скважинам, где они есть...\n",
    "##...но заполняем их значениями одного и того же, 13-го месяца с конца, меняя только переменные, связанные с датой...\n",
    "##...и подставляя фактические значения добычи нефти\n",
    "all_train_copy=deepcopy(all_train).reset_index(drop=True)\n",
    "raw_all_train=pd.concat([raw_train,raw_test]).reset_index(drop=True)\n",
    "\n",
    "all_train_copy['Дата']=pd.to_datetime(raw_all_train['Дата'])\n",
    "all_train_lasts=deepcopy(all_train_copy.groupby('Скважина').tail(13).groupby('Скважина').head(1))\n",
    "\n",
    "val_list=[]\n",
    "for i in range(0,12):\n",
    "    temp_val=all_train_lasts.drop(['Кал.месяц','Месяц','Дата'],axis=1).drop(['Кал.год'],axis=1)\n",
    "    \n",
    "    temp_val['Дата']=all_train_lasts['Дата'].apply(lambda x:x+pd.DateOffset(months=i+1))\n",
    "    temp_val['Месяц']=all_train_lasts['Месяц']+i+1\n",
    "    temp_val['Кал.месяц']=temp_val.loc[:,'Дата'].dt.month\n",
    "    temp_val['Кал.год']=temp_val.loc[:,'Дата'].dt.year\n",
    "    temp_val=temp_val.drop('Дата',axis=1)\n",
    "    val_list.append(temp_val)\n",
    "\n",
    "val_fcst=pd.concat(val_list)\n",
    "\n",
    "###добавляем в валидационный сет настоящие значения по целевой переменной\n",
    "val_fcst=pd.merge(val_fcst.drop('Нефть, м3',axis=1),all_train.groupby('Скважина').tail(12).loc[:,['Скважина','Месяц','Нефть, м3']],\n",
    "         on=['Скважина','Месяц'])\n",
    "\n",
    "print(val_fcst.shape)\n",
    "print(all_train_lasts.shape)"
   ]
  },
  {
   "cell_type": "code",
   "execution_count": 130,
   "metadata": {},
   "outputs": [],
   "source": [
    "###создаём новый train, убирая наблюдения за последние 12 месяцев - которые попали в валидационный датасет\n",
    "val_idxs=all_train.groupby('Скважина').tail(12).index\n",
    "const_train=deepcopy(all_train.drop(val_idxs,axis=0))"
   ]
  },
  {
   "cell_type": "code",
   "execution_count": 131,
   "metadata": {},
   "outputs": [],
   "source": [
    "#display(all_train_lasts.sort_values(['Скважина','Месяц']).head())\n",
    "#display(val_fcst.sort_values(['Скважина','Месяц']).head())\n",
    "#display(all_train.sort_values(['Скважина','Месяц']).groupby('Скважина').tail(12).head())"
   ]
  },
  {
   "cell_type": "code",
   "execution_count": 132,
   "metadata": {},
   "outputs": [],
   "source": [
    "## правим в созданных заново датасетах категории\n",
    "for v in cat_vars: \n",
    "    all_train[v] = all_train[v].astype('category')\n",
    "    const_train[v] = const_train[v].astype('category')\n",
    "    test_fcst[v] = test_fcst[v].astype('category')\n",
    "    val_fcst[v] = val_fcst[v].astype('category')\n",
    "    \n",
    "for v in contin_vars_train:\n",
    "    all_train[v] = all_train[v].astype('float32')\n",
    "    const_train[v] = const_train[v].astype('float32')\n",
    "    test_fcst[v] = test_fcst[v].astype('float32')\n",
    "    val_fcst[v] = val_fcst[v].astype('float32')\n",
    "    \n",
    "test_fcst=test_fcst.set_index('Скважина').reindex(order['well']).reset_index(drop=False)\n",
    "test_fcst['Скважина'] = test_fcst['Скважина'].astype('category')"
   ]
  },
  {
   "cell_type": "code",
   "execution_count": 133,
   "metadata": {},
   "outputs": [],
   "source": [
    "test_fcst=test_fcst.drop('Нефть, м3',axis=1)"
   ]
  },
  {
   "cell_type": "code",
   "execution_count": 134,
   "metadata": {},
   "outputs": [
    {
     "name": "stdout",
     "output_type": "stream",
     "text": [
      "Данная валидационная выборка составит 14.0% от общей выборки по числу элементов\n"
     ]
    }
   ],
   "source": [
    "##убираем из выборки для обучения строки, которые есть в валидационной выборке\n",
    "val_idx=get_last_els(all_train,'Скважина',12)\n",
    "all_train=all_train[np.logical_not(val_idx)]"
   ]
  },
  {
   "cell_type": "code",
   "execution_count": 135,
   "metadata": {},
   "outputs": [],
   "source": [
    "test_wells=test['Скважина'].unique().tolist()\n",
    "train_wells=train['Скважина'].unique().tolist()\n",
    "const_train_wells=const_train['Скважина'].unique().tolist()\n",
    "\n",
    "val_on_test=val_fcst.set_index(['Скважина']).loc[test_wells,:].reset_index(drop=False)"
   ]
  },
  {
   "cell_type": "code",
   "execution_count": 136,
   "metadata": {},
   "outputs": [],
   "source": [
    "#display(test_fcst.tail(10))\n",
    "#display(order.tail(10))"
   ]
  },
  {
   "cell_type": "markdown",
   "metadata": {},
   "source": [
    "## Убираем переменные, скорелированные с целевой, которых нет в тестовом датасете"
   ]
  },
  {
   "cell_type": "code",
   "execution_count": 137,
   "metadata": {},
   "outputs": [],
   "source": [
    "##Кажется достаточно логичным, что переменные, связанные с добычей воды и газа, \n",
    "#кореллируют с целевой переменной - добычей нефти\n",
    "#также по месяцам варьируется количество часов работы \n",
    "##В прогнозном периоде этих данных у нас не будет, поэтому мы хотим создать модель, которая работает без них\n",
    "##для этого мы убираем их из нашего train датасета\n",
    "corr_cols_wtarg=['Нефть, м3','Попутный газ, м3','Добыча растворенного газа, м3',\n",
    "                  'Обводненность (масса), %','Жидкость, м3','Вода, т','Жидкость, т','Дебит нефти','Время работы, ч','Дебит жидкости']\n",
    "corr_cols=['Попутный газ, м3','Добыча растворенного газа, м3',\n",
    "                  'Обводненность (масса), %','Жидкость, м3','Вода, т','Жидкость, т','Дебит нефти','Время работы, ч','Дебит жидкости']"
   ]
  },
  {
   "cell_type": "code",
   "execution_count": 138,
   "metadata": {},
   "outputs": [
    {
     "name": "stdout",
     "output_type": "stream",
     "text": [
      "НЕФ\n"
     ]
    },
    {
     "data": {
      "text/plain": [
       "array([<matplotlib.axes._subplots.AxesSubplot object at 0x7fbde63b4d68>], dtype=object)"
      ]
     },
     "execution_count": 138,
     "metadata": {},
     "output_type": "execute_result"
    },
    {
     "data": {
      "image/png": "[encoded data removed]",
      "text/plain": [
       "<Figure size 432x288 with 4 Axes>"
      ]
     },
     "metadata": {
      "needs_background": "light"
     },
     "output_type": "display_data"
    },
    {
     "data": {
      "image/png": "[encoded data removed]",
      "text/plain": [
       "<Figure size 432x288 with 4 Axes>"
      ]
     },
     "metadata": {
      "needs_background": "light"
     },
     "output_type": "display_data"
    },
    {
     "data": {
      "image/png": "[encoded data removed]",
      "text/plain": [
       "<Figure size 432x288 with 2 Axes>"
      ]
     },
     "metadata": {
      "needs_background": "light"
     },
     "output_type": "display_data"
    }
   ],
   "source": [
    "##смотрим по произвольным скважинам как ведут себя эти переменные визуально\n",
    "\n",
    "temp=train.loc[:,corr_cols+['Нефть, м3']+['Скважина']+['Месяц','Характер работы']].reset_index(drop=True).set_index('Скважина')\n",
    "\n",
    "#смотрим произвольные скважины\n",
    "\n",
    "well=temp.index.unique()[random.randint(0,len(temp.index.unique())-1)]\n",
    "print(temp.loc[well,'Характер работы'][0])\n",
    "\n",
    "fig, axes = plt.subplots(nrows=2, ncols=2)\n",
    "\n",
    "temp.loc[well,:].plot('Месяц','Нефть, м3',subplots=True,ax=axes[0,0])\n",
    "temp.loc[well,:].plot('Месяц',corr_cols[0],subplots=True,ax=axes[0,1])\n",
    "temp.loc[well,:].plot('Месяц',corr_cols[1],subplots=True,ax=axes[1,0])\n",
    "temp.loc[well,:].plot('Месяц',corr_cols[2],subplots=True,ax=axes[1,1])\n",
    "\n",
    "fig2, axes2 = plt.subplots(nrows=2, ncols=2)\n",
    "\n",
    "temp.loc[well,:].plot('Месяц',corr_cols[3],subplots=True,ax=axes2[0,0])\n",
    "temp.loc[well,:].plot('Месяц',corr_cols[4],subplots=True,ax=axes2[0,1])\n",
    "temp.loc[well,:].plot('Месяц',corr_cols[5],subplots=True,ax=axes2[1,0])\n",
    "temp.loc[well,:].plot('Месяц',corr_cols[6],subplots=True,ax=axes2[1,1])\n",
    "\n",
    "fig3, axes3 = plt.subplots(nrows=1, ncols=2)\n",
    "\n",
    "temp.loc[well,:].plot('Месяц',corr_cols[7],subplots=True,ax=axes3[0])\n",
    "temp.loc[well,:].plot('Месяц',corr_cols[8],subplots=True,ax=axes3[1])"
   ]
  },
  {
   "cell_type": "code",
   "execution_count": 139,
   "metadata": {},
   "outputs": [
    {
     "data": {
      "text/html": [
       "<div>\n",
       "<style scoped>\n",
       "    .dataframe tbody tr th:only-of-type {\n",
       "        vertical-align: middle;\n",
       "    }\n",
       "\n",
       "    .dataframe tbody tr th {\n",
       "        vertical-align: top;\n",
       "    }\n",
       "\n",
       "    .dataframe thead th {\n",
       "        text-align: right;\n",
       "    }\n",
       "</style>\n",
       "<table border=\"1\" class=\"dataframe\">\n",
       "  <thead>\n",
       "    <tr style=\"text-align: right;\">\n",
       "      <th></th>\n",
       "      <th>Попутный газ, м3</th>\n",
       "      <th>Добыча растворенного газа, м3</th>\n",
       "      <th>Обводненность (масса), %</th>\n",
       "      <th>Жидкость, м3</th>\n",
       "      <th>Вода, т</th>\n",
       "      <th>Жидкость, т</th>\n",
       "      <th>Дебит нефти</th>\n",
       "      <th>Время работы, ч</th>\n",
       "      <th>Дебит жидкости</th>\n",
       "    </tr>\n",
       "    <tr>\n",
       "      <th>Скважина</th>\n",
       "      <th></th>\n",
       "      <th></th>\n",
       "      <th></th>\n",
       "      <th></th>\n",
       "      <th></th>\n",
       "      <th></th>\n",
       "      <th></th>\n",
       "      <th></th>\n",
       "      <th></th>\n",
       "    </tr>\n",
       "  </thead>\n",
       "  <tbody>\n",
       "    <tr>\n",
       "      <th>0089b3f545d8b49c</th>\n",
       "      <td>6752.878418</td>\n",
       "      <td>6752.867188</td>\n",
       "      <td>4.261016</td>\n",
       "      <td>85.149498</td>\n",
       "      <td>16.345047</td>\n",
       "      <td>74.859573</td>\n",
       "      <td>1.366332</td>\n",
       "      <td>123.940811</td>\n",
       "      <td>1.564636</td>\n",
       "    </tr>\n",
       "    <tr>\n",
       "      <th>06413e50041826de</th>\n",
       "      <td>14018.119141</td>\n",
       "      <td>14018.105469</td>\n",
       "      <td>4.192035</td>\n",
       "      <td>244.664383</td>\n",
       "      <td>23.821423</td>\n",
       "      <td>214.379959</td>\n",
       "      <td>2.316287</td>\n",
       "      <td>115.198357</td>\n",
       "      <td>2.782858</td>\n",
       "    </tr>\n",
       "    <tr>\n",
       "      <th>074ff5b673b5e80d</th>\n",
       "      <td>6647.073242</td>\n",
       "      <td>6647.073242</td>\n",
       "      <td>8.037237</td>\n",
       "      <td>236.533356</td>\n",
       "      <td>103.409416</td>\n",
       "      <td>221.849548</td>\n",
       "      <td>NaN</td>\n",
       "      <td>127.673698</td>\n",
       "      <td>NaN</td>\n",
       "    </tr>\n",
       "    <tr>\n",
       "      <th>0a6c7b090c4b4e56</th>\n",
       "      <td>26442.664062</td>\n",
       "      <td>26442.658203</td>\n",
       "      <td>31.185589</td>\n",
       "      <td>1731.971191</td>\n",
       "      <td>1202.445679</td>\n",
       "      <td>1688.570557</td>\n",
       "      <td>8.628292</td>\n",
       "      <td>320.382080</td>\n",
       "      <td>10.686368</td>\n",
       "    </tr>\n",
       "    <tr>\n",
       "      <th>0b68e26f46bae74f</th>\n",
       "      <td>3050.514404</td>\n",
       "      <td>3050.514893</td>\n",
       "      <td>21.249994</td>\n",
       "      <td>47.611580</td>\n",
       "      <td>25.943470</td>\n",
       "      <td>42.185959</td>\n",
       "      <td>1.388484</td>\n",
       "      <td>91.807632</td>\n",
       "      <td>1.465082</td>\n",
       "    </tr>\n",
       "  </tbody>\n",
       "</table>\n",
       "</div>"
      ],
      "text/plain": [
       "                  Попутный газ, м3  Добыча растворенного газа, м3  \\\n",
       "Скважина                                                            \n",
       "0089b3f545d8b49c       6752.878418                    6752.867188   \n",
       "06413e50041826de      14018.119141                   14018.105469   \n",
       "074ff5b673b5e80d       6647.073242                    6647.073242   \n",
       "0a6c7b090c4b4e56      26442.664062                   26442.658203   \n",
       "0b68e26f46bae74f       3050.514404                    3050.514893   \n",
       "\n",
       "                  Обводненность (масса), %  Жидкость, м3      Вода, т  \\\n",
       "Скважина                                                                \n",
       "0089b3f545d8b49c                  4.261016     85.149498    16.345047   \n",
       "06413e50041826de                  4.192035    244.664383    23.821423   \n",
       "074ff5b673b5e80d                  8.037237    236.533356   103.409416   \n",
       "0a6c7b090c4b4e56                 31.185589   1731.971191  1202.445679   \n",
       "0b68e26f46bae74f                 21.249994     47.611580    25.943470   \n",
       "\n",
       "                  Жидкость, т  Дебит нефти  Время работы, ч  Дебит жидкости  \n",
       "Скважина                                                                     \n",
       "0089b3f545d8b49c    74.859573     1.366332       123.940811        1.564636  \n",
       "06413e50041826de   214.379959     2.316287       115.198357        2.782858  \n",
       "074ff5b673b5e80d   221.849548          NaN       127.673698             NaN  \n",
       "0a6c7b090c4b4e56  1688.570557     8.628292       320.382080       10.686368  \n",
       "0b68e26f46bae74f    42.185959     1.388484        91.807632        1.465082  "
      ]
     },
     "metadata": {},
     "output_type": "display_data"
    },
    {
     "data": {
      "text/html": [
       "<div>\n",
       "<style scoped>\n",
       "    .dataframe tbody tr th:only-of-type {\n",
       "        vertical-align: middle;\n",
       "    }\n",
       "\n",
       "    .dataframe tbody tr th {\n",
       "        vertical-align: top;\n",
       "    }\n",
       "\n",
       "    .dataframe thead th {\n",
       "        text-align: right;\n",
       "    }\n",
       "</style>\n",
       "<table border=\"1\" class=\"dataframe\">\n",
       "  <thead>\n",
       "    <tr style=\"text-align: right;\">\n",
       "      <th></th>\n",
       "      <th>Попутный газ, м3</th>\n",
       "      <th>Добыча растворенного газа, м3</th>\n",
       "      <th>Обводненность (масса), %</th>\n",
       "      <th>Жидкость, м3</th>\n",
       "      <th>Вода, т</th>\n",
       "      <th>Жидкость, т</th>\n",
       "      <th>Дебит нефти</th>\n",
       "      <th>Время работы, ч</th>\n",
       "      <th>Дебит жидкости</th>\n",
       "    </tr>\n",
       "    <tr>\n",
       "      <th>Скважина</th>\n",
       "      <th></th>\n",
       "      <th></th>\n",
       "      <th></th>\n",
       "      <th></th>\n",
       "      <th></th>\n",
       "      <th></th>\n",
       "      <th></th>\n",
       "      <th></th>\n",
       "      <th></th>\n",
       "    </tr>\n",
       "  </thead>\n",
       "  <tbody>\n",
       "    <tr>\n",
       "      <th>0089b3f545d8b49c</th>\n",
       "      <td>26218.660156</td>\n",
       "      <td>26218.671875</td>\n",
       "      <td>7.921429</td>\n",
       "      <td>384.075012</td>\n",
       "      <td>27.339821</td>\n",
       "      <td>337.740723</td>\n",
       "      <td>11.509521</td>\n",
       "      <td>701.053589</td>\n",
       "      <td>14.058571</td>\n",
       "    </tr>\n",
       "    <tr>\n",
       "      <th>06413e50041826de</th>\n",
       "      <td>45625.164062</td>\n",
       "      <td>45625.164062</td>\n",
       "      <td>7.713115</td>\n",
       "      <td>677.442810</td>\n",
       "      <td>45.108688</td>\n",
       "      <td>595.122925</td>\n",
       "      <td>18.213003</td>\n",
       "      <td>705.803284</td>\n",
       "      <td>22.190475</td>\n",
       "    </tr>\n",
       "    <tr>\n",
       "      <th>074ff5b673b5e80d</th>\n",
       "      <td>1076.058838</td>\n",
       "      <td>1076.058838</td>\n",
       "      <td>1.388235</td>\n",
       "      <td>39.823528</td>\n",
       "      <td>17.514706</td>\n",
       "      <td>37.367645</td>\n",
       "      <td>NaN</td>\n",
       "      <td>704.411743</td>\n",
       "      <td>NaN</td>\n",
       "    </tr>\n",
       "    <tr>\n",
       "      <th>0a6c7b090c4b4e56</th>\n",
       "      <td>35398.582031</td>\n",
       "      <td>35398.597656</td>\n",
       "      <td>51.559700</td>\n",
       "      <td>2595.366455</td>\n",
       "      <td>1750.953125</td>\n",
       "      <td>2530.015381</td>\n",
       "      <td>34.642731</td>\n",
       "      <td>525.432861</td>\n",
       "      <td>120.961540</td>\n",
       "    </tr>\n",
       "    <tr>\n",
       "      <th>0b68e26f46bae74f</th>\n",
       "      <td>7422.226562</td>\n",
       "      <td>7422.230469</td>\n",
       "      <td>21.860937</td>\n",
       "      <td>149.567581</td>\n",
       "      <td>28.700233</td>\n",
       "      <td>134.295700</td>\n",
       "      <td>2.612731</td>\n",
       "      <td>711.187500</td>\n",
       "      <td>4.494286</td>\n",
       "    </tr>\n",
       "  </tbody>\n",
       "</table>\n",
       "</div>"
      ],
      "text/plain": [
       "                  Попутный газ, м3  Добыча растворенного газа, м3  \\\n",
       "Скважина                                                            \n",
       "0089b3f545d8b49c      26218.660156                   26218.671875   \n",
       "06413e50041826de      45625.164062                   45625.164062   \n",
       "074ff5b673b5e80d       1076.058838                    1076.058838   \n",
       "0a6c7b090c4b4e56      35398.582031                   35398.597656   \n",
       "0b68e26f46bae74f       7422.226562                    7422.230469   \n",
       "\n",
       "                  Обводненность (масса), %  Жидкость, м3      Вода, т  \\\n",
       "Скважина                                                                \n",
       "0089b3f545d8b49c                  7.921429    384.075012    27.339821   \n",
       "06413e50041826de                  7.713115    677.442810    45.108688   \n",
       "074ff5b673b5e80d                  1.388235     39.823528    17.514706   \n",
       "0a6c7b090c4b4e56                 51.559700   2595.366455  1750.953125   \n",
       "0b68e26f46bae74f                 21.860937    149.567581    28.700233   \n",
       "\n",
       "                  Жидкость, т  Дебит нефти  Время работы, ч  Дебит жидкости  \n",
       "Скважина                                                                     \n",
       "0089b3f545d8b49c   337.740723    11.509521       701.053589       14.058571  \n",
       "06413e50041826de   595.122925    18.213003       705.803284       22.190475  \n",
       "074ff5b673b5e80d    37.367645          NaN       704.411743             NaN  \n",
       "0a6c7b090c4b4e56  2530.015381    34.642731       525.432861      120.961540  \n",
       "0b68e26f46bae74f   134.295700     2.612731       711.187500        4.494286  "
      ]
     },
     "metadata": {},
     "output_type": "display_data"
    },
    {
     "data": {
      "text/html": [
       "<div>\n",
       "<style scoped>\n",
       "    .dataframe tbody tr th:only-of-type {\n",
       "        vertical-align: middle;\n",
       "    }\n",
       "\n",
       "    .dataframe tbody tr th {\n",
       "        vertical-align: top;\n",
       "    }\n",
       "\n",
       "    .dataframe thead th {\n",
       "        text-align: right;\n",
       "    }\n",
       "</style>\n",
       "<table border=\"1\" class=\"dataframe\">\n",
       "  <thead>\n",
       "    <tr style=\"text-align: right;\">\n",
       "      <th></th>\n",
       "      <th>Попутный газ, м3</th>\n",
       "      <th>Добыча растворенного газа, м3</th>\n",
       "      <th>Обводненность (масса), %</th>\n",
       "      <th>Жидкость, м3</th>\n",
       "      <th>Вода, т</th>\n",
       "      <th>Жидкость, т</th>\n",
       "      <th>Дебит нефти</th>\n",
       "      <th>Время работы, ч</th>\n",
       "      <th>Дебит жидкости</th>\n",
       "    </tr>\n",
       "    <tr>\n",
       "      <th>Скважина</th>\n",
       "      <th></th>\n",
       "      <th></th>\n",
       "      <th></th>\n",
       "      <th></th>\n",
       "      <th></th>\n",
       "      <th></th>\n",
       "      <th></th>\n",
       "      <th></th>\n",
       "      <th></th>\n",
       "    </tr>\n",
       "  </thead>\n",
       "  <tbody>\n",
       "    <tr>\n",
       "      <th>0089b3f545d8b49c</th>\n",
       "      <td>0.257560</td>\n",
       "      <td>0.257559</td>\n",
       "      <td>0.537910</td>\n",
       "      <td>0.221700</td>\n",
       "      <td>0.597848</td>\n",
       "      <td>0.221648</td>\n",
       "      <td>0.118713</td>\n",
       "      <td>0.176792</td>\n",
       "      <td>0.111294</td>\n",
       "    </tr>\n",
       "    <tr>\n",
       "      <th>06413e50041826de</th>\n",
       "      <td>0.307245</td>\n",
       "      <td>0.307245</td>\n",
       "      <td>0.543494</td>\n",
       "      <td>0.361159</td>\n",
       "      <td>0.528089</td>\n",
       "      <td>0.360228</td>\n",
       "      <td>0.127178</td>\n",
       "      <td>0.163216</td>\n",
       "      <td>0.125408</td>\n",
       "    </tr>\n",
       "    <tr>\n",
       "      <th>074ff5b673b5e80d</th>\n",
       "      <td>6.177239</td>\n",
       "      <td>6.177239</td>\n",
       "      <td>5.789535</td>\n",
       "      <td>5.939538</td>\n",
       "      <td>5.904148</td>\n",
       "      <td>5.936942</td>\n",
       "      <td>NaN</td>\n",
       "      <td>0.181249</td>\n",
       "      <td>NaN</td>\n",
       "    </tr>\n",
       "    <tr>\n",
       "      <th>0a6c7b090c4b4e56</th>\n",
       "      <td>0.746998</td>\n",
       "      <td>0.746997</td>\n",
       "      <td>0.604844</td>\n",
       "      <td>0.667332</td>\n",
       "      <td>0.686738</td>\n",
       "      <td>0.667415</td>\n",
       "      <td>0.249065</td>\n",
       "      <td>0.609749</td>\n",
       "      <td>0.088345</td>\n",
       "    </tr>\n",
       "    <tr>\n",
       "      <th>0b68e26f46bae74f</th>\n",
       "      <td>0.410997</td>\n",
       "      <td>0.410997</td>\n",
       "      <td>0.972053</td>\n",
       "      <td>0.318328</td>\n",
       "      <td>0.903946</td>\n",
       "      <td>0.314127</td>\n",
       "      <td>0.531430</td>\n",
       "      <td>0.129091</td>\n",
       "      <td>0.325988</td>\n",
       "    </tr>\n",
       "  </tbody>\n",
       "</table>\n",
       "</div>"
      ],
      "text/plain": [
       "                  Попутный газ, м3  Добыча растворенного газа, м3  \\\n",
       "Скважина                                                            \n",
       "0089b3f545d8b49c          0.257560                       0.257559   \n",
       "06413e50041826de          0.307245                       0.307245   \n",
       "074ff5b673b5e80d          6.177239                       6.177239   \n",
       "0a6c7b090c4b4e56          0.746998                       0.746997   \n",
       "0b68e26f46bae74f          0.410997                       0.410997   \n",
       "\n",
       "                  Обводненность (масса), %  Жидкость, м3   Вода, т  \\\n",
       "Скважина                                                             \n",
       "0089b3f545d8b49c                  0.537910      0.221700  0.597848   \n",
       "06413e50041826de                  0.543494      0.361159  0.528089   \n",
       "074ff5b673b5e80d                  5.789535      5.939538  5.904148   \n",
       "0a6c7b090c4b4e56                  0.604844      0.667332  0.686738   \n",
       "0b68e26f46bae74f                  0.972053      0.318328  0.903946   \n",
       "\n",
       "                  Жидкость, т  Дебит нефти  Время работы, ч  Дебит жидкости  \n",
       "Скважина                                                                     \n",
       "0089b3f545d8b49c     0.221648     0.118713         0.176792        0.111294  \n",
       "06413e50041826de     0.360228     0.127178         0.163216        0.125408  \n",
       "074ff5b673b5e80d     5.936942          NaN         0.181249             NaN  \n",
       "0a6c7b090c4b4e56     0.667415     0.249065         0.609749        0.088345  \n",
       "0b68e26f46bae74f     0.314127     0.531430         0.129091        0.325988  "
      ]
     },
     "metadata": {},
     "output_type": "display_data"
    }
   ],
   "source": [
    "#Смотрим на значения этого набора переменных по произвольным скважинам\n",
    "test_wells_std=test[corr_cols+['Скважина']].groupby('Скважина').agg('std')\n",
    "test_wells_mean=test[corr_cols+['Скважина']].groupby('Скважина').agg('mean')\n",
    "test_wells_std_perc=test_wells_std.div(test_wells_mean,level='Скважина')\n",
    "display(test_wells_std.head(),test_wells_mean.head(),test_wells_std_perc.head())"
   ]
  },
  {
   "cell_type": "code",
   "execution_count": 140,
   "metadata": {},
   "outputs": [
    {
     "data": {
      "image/png": "[encoded data removed]",
      "text/plain": [
       "<Figure size 1080x1080 with 2 Axes>"
      ]
     },
     "metadata": {
      "needs_background": "light"
     },
     "output_type": "display_data"
    },
    {
     "data": {
      "text/html": [
       "<a href='data/Gazprom2/corr_heatmap.png' target='_blank'>data/Gazprom2/corr_heatmap.png</a><br>"
      ],
      "text/plain": [
       "/home/paperspace/fastai/data/Gazprom2/corr_heatmap.png"
      ]
     },
     "execution_count": 140,
     "metadata": {},
     "output_type": "execute_result"
    }
   ],
   "source": [
    "##Смотрим на уровень корелляции между данными переменными на тепловой карте\n",
    "plot_link=f'{PATH_oil}corr_heatmap.png'\n",
    "corr_heatmap=plot_corr_heatmap(test[['Нефть, м3']+corr_cols], figsize=(15,15), label_fontsize=13, value_fontsize=11,save=plot_link)\n",
    "\n",
    "FileLink(plot_link)"
   ]
  },
  {
   "cell_type": "code",
   "execution_count": 141,
   "metadata": {},
   "outputs": [],
   "source": [
    "##Мы видим, что прямой корелляции между Нефть, м3 и \"Дебит нефти\" \"Время работы\" и \"Дебит жидкости\" нет\n",
    "##Зато есть практически полная корелляция между Дебитом нефти и Дебитом жидкости"
   ]
  },
  {
   "cell_type": "markdown",
   "metadata": {},
   "source": [
    "## Определяем основные предпосылки в модели и делаем предобработку данных"
   ]
  },
  {
   "cell_type": "code",
   "execution_count": 142,
   "metadata": {},
   "outputs": [],
   "source": [
    "#выбираем используемые train и test датасеты. Здесь - используем датасеты со всеми переменными\n",
    "#переименование переменных - осталось для удобства изменения на другой набор тестовых/валидационных датасетов для той же модели\n",
    "cur_train=const_train.drop(corr_cols,axis=1)\n",
    "cur_val=val_fcst.drop(corr_cols,axis=1)\n",
    "cur_test=test_fcst.drop(corr_cols,axis=1)\n",
    "cur_train_sub=all_train.drop(corr_cols,axis=1)"
   ]
  },
  {
   "cell_type": "code",
   "execution_count": 143,
   "metadata": {},
   "outputs": [],
   "source": [
    "#Используем функцию proc_df из библиотеки fast.ai для предобработки данных\n",
    "#Заполняет NA, нормализация количественных признаков возле среднего и перевод качественных в их индексы\n",
    "#Также при наличии NA создаются новые переменные, запоминающие, в каких местах были NA\n",
    "df_trn, y_trn, nas, mapper = proc_df(cur_train, 'Нефть, м3', do_scale=True)\n",
    "df_val, y_val, nas, mapper = proc_df(cur_val, 'Нефть, м3', do_scale=True,mapper=mapper,na_dict=nas)"
   ]
  },
  {
   "cell_type": "markdown",
   "metadata": {},
   "source": [
    "## Первичный запуск алгоритма случайного леса"
   ]
  },
  {
   "cell_type": "code",
   "execution_count": 144,
   "metadata": {},
   "outputs": [
    {
     "name": "stdout",
     "output_type": "stream",
     "text": [
      "CPU times: user 6.75 s, sys: 16 ms, total: 6.77 s\n",
      "Wall time: 1.18 s\n",
      "['MAE_trn', 'MAE_val', 'score_trn', 'score_val', 'T_var', 'OOB(if present)']\n",
      "['18.95', '106.95', '0.98', '0.38', '271.02', '0.91']\n"
     ]
    }
   ],
   "source": [
    "#сначала запускаем модель со всеми имеющимися переменными, кроме скорелированных\n",
    "m_rf_all = RandomForestRegressor(n_estimators=40, max_features=0.99, min_samples_leaf=2,\n",
    "                         n_jobs=-1, oob_score=True)\n",
    "\n",
    "%time m_rf_all.fit(df_trn, pd.DataFrame(y_trn));\n",
    "print_score(m_rf_all)\n",
    "RF_preds_val = m_rf_all.predict(df_val.values)"
   ]
  },
  {
   "cell_type": "markdown",
   "metadata": {},
   "source": [
    "## Смотрим эффективность прогноза на валидационном датасете"
   ]
  },
  {
   "cell_type": "code",
   "execution_count": 145,
   "metadata": {},
   "outputs": [],
   "source": [
    "## Делаем таблицу для сравнения фактических значений на валидационном датасете и предсказаний\n",
    "val_preds_df=deepcopy(df_val)\n",
    "val_preds_df['Preds']=RF_preds_val\n",
    "val_preds_df['Нефть, м3']=y_val\n",
    "val_preds_df['MAE']=np.abs(val_preds_df['Preds']-val_preds_df['Нефть, м3'])\n",
    "val_preds_df=val_preds_df.set_index('Скважина')"
   ]
  },
  {
   "cell_type": "code",
   "execution_count": 146,
   "metadata": {},
   "outputs": [
    {
     "name": "stdout",
     "output_type": "stream",
     "text": [
      "(1236, 133) (1437, 133) (2673, 133)\n"
     ]
    }
   ],
   "source": [
    "##выделяем отдельно скважины с нулевой медианой\n",
    "val_zeros_temp=(val_preds_df['Нефть, м3'].groupby('Скважина').median()==0)\n",
    "val_zeros=val_zeros_temp.index[val_zeros_temp.values]\n",
    "val_preds_df_zeros=val_preds_df.loc[val_zeros,:]\n",
    "val_preds_df_nonzeros=val_preds_df.drop(val_zeros,axis=0)\n",
    "\n",
    "print(val_preds_df_zeros.shape,val_preds_df_nonzeros.shape,val_preds_df.shape)"
   ]
  },
  {
   "cell_type": "code",
   "execution_count": 147,
   "metadata": {},
   "outputs": [
    {
     "data": {
      "text/plain": [
       "Скважина\n",
       "2       628.193463\n",
       "58      685.637679\n",
       "21      796.279989\n",
       "65      888.478559\n",
       "98      929.663000\n",
       "75      963.448560\n",
       "94     1030.311011\n",
       "171    1068.755005\n",
       "152    1071.722496\n",
       "78     1152.442485\n",
       "118    1414.859985\n",
       "28     1548.441398\n",
       "84     1684.349144\n",
       "7      1891.215967\n",
       "154    2472.978775\n",
       "Name: MAE, dtype: float64"
      ]
     },
     "execution_count": 147,
     "metadata": {},
     "output_type": "execute_result"
    }
   ],
   "source": [
    "##смотрим по каким ненулевым скважинам наихудший MAE\n",
    "val_preds_df.groupby('Скважина').mean().MAE.sort_values().tail(15)"
   ]
  },
  {
   "cell_type": "code",
   "execution_count": 148,
   "metadata": {},
   "outputs": [
    {
     "data": {
      "text/plain": [
       "Скважина\n",
       "68      4.102601\n",
       "47      5.235622\n",
       "49      7.263000\n",
       "12      7.432054\n",
       "40     10.763268\n",
       "226    11.374734\n",
       "229    11.874937\n",
       "153    12.645176\n",
       "110    12.677562\n",
       "34     13.081568\n",
       "123    13.606691\n",
       "20     13.990750\n",
       "25     15.602087\n",
       "227    15.739449\n",
       "138    17.555159\n",
       "Name: MAE, dtype: float64"
      ]
     },
     "execution_count": 148,
     "metadata": {},
     "output_type": "execute_result"
    }
   ],
   "source": [
    "##смотрим по каким ненулевым скважинам наилучший MAE\n",
    "val_preds_df_nonzeros.groupby('Скважина').mean().MAE.sort_values().head(15)"
   ]
  },
  {
   "cell_type": "code",
   "execution_count": 149,
   "metadata": {},
   "outputs": [
    {
     "name": "stdout",
     "output_type": "stream",
     "text": [
      "33.0\n"
     ]
    },
    {
     "data": {
      "text/plain": [
       "<matplotlib.axes._subplots.AxesSubplot at 0x7fbde6856b38>"
      ]
     },
     "execution_count": 149,
     "metadata": {},
     "output_type": "execute_result"
    },
    {
     "data": {
      "image/png": "[encoded data removed]",
      "text/plain": [
       "<Figure size 432x288 with 1 Axes>"
      ]
     },
     "metadata": {
      "needs_background": "light"
     },
     "output_type": "display_data"
    }
   ],
   "source": [
    "##Cмотрим на предсказания по нескольким произвольным скважинам\n",
    "rand_val_well=random.choice(val_preds_df.index.unique().tolist())\n",
    "cur_val_well=128\n",
    "\n",
    "ax1 = plt.gca()\n",
    "print(round(val_preds_df.loc[cur_val_well,'MAE'].mean(),0))\n",
    "val_preds_df.loc[cur_val_well,:].plot('Месяц','Нефть, м3',c='grey',ax=ax1)\n",
    "val_preds_df.loc[cur_val_well,:].plot('Месяц','Preds',c='blue',ax=ax1,dashes=[6,2])"
   ]
  },
  {
   "cell_type": "markdown",
   "metadata": {},
   "source": [
    "## Выбираем значимые для прогноза признаки через random forest"
   ]
  },
  {
   "cell_type": "code",
   "execution_count": 150,
   "metadata": {
    "scrolled": false
   },
   "outputs": [],
   "source": [
    "#Встроенная в random forest rf_feat_importance работает некорректно - она неправильно учитывает скорелированные переменные\n",
    "#Поэтому для прогноза мы используем пакет importances, где значимость переменных считается корректно\n",
    "#fi = rf_feat_importance(m_rf, df_trn);\n",
    "\n",
    "imp = importances(m_rf_all, df_val, pd.DataFrame(y_val)) # permutation\n",
    "#dep = oob_dependences(m_rf, df_trn) #dependencies"
   ]
  },
  {
   "cell_type": "code",
   "execution_count": 151,
   "metadata": {},
   "outputs": [
    {
     "data": {
      "text/html": [
       "<div>\n",
       "<style scoped>\n",
       "    .dataframe tbody tr th:only-of-type {\n",
       "        vertical-align: middle;\n",
       "    }\n",
       "\n",
       "    .dataframe tbody tr th {\n",
       "        vertical-align: top;\n",
       "    }\n",
       "\n",
       "    .dataframe thead th {\n",
       "        text-align: right;\n",
       "    }\n",
       "</style>\n",
       "<table border=\"1\" class=\"dataframe\">\n",
       "  <thead>\n",
       "    <tr style=\"text-align: right;\">\n",
       "      <th></th>\n",
       "      <th>Importance</th>\n",
       "    </tr>\n",
       "    <tr>\n",
       "      <th>Feature</th>\n",
       "      <th></th>\n",
       "    </tr>\n",
       "  </thead>\n",
       "  <tbody>\n",
       "    <tr>\n",
       "      <th>kprod_calc</th>\n",
       "      <td>0.700562</td>\n",
       "    </tr>\n",
       "    <tr>\n",
       "      <th>completion</th>\n",
       "      <td>0.109508</td>\n",
       "    </tr>\n",
       "    <tr>\n",
       "      <th>pres_atm</th>\n",
       "      <td>0.106560</td>\n",
       "    </tr>\n",
       "    <tr>\n",
       "      <th>Вязкость жидкости в пласт. условиях</th>\n",
       "      <td>0.034714</td>\n",
       "    </tr>\n",
       "    <tr>\n",
       "      <th>Обводненность</th>\n",
       "      <td>0.028960</td>\n",
       "    </tr>\n",
       "    <tr>\n",
       "      <th>h_vert</th>\n",
       "      <td>0.022255</td>\n",
       "    </tr>\n",
       "    <tr>\n",
       "      <th>Характер работы</th>\n",
       "      <td>0.011983</td>\n",
       "    </tr>\n",
       "    <tr>\n",
       "      <th>group</th>\n",
       "      <td>0.006649</td>\n",
       "    </tr>\n",
       "    <tr>\n",
       "      <th>X</th>\n",
       "      <td>0.005381</td>\n",
       "    </tr>\n",
       "    <tr>\n",
       "      <th>cell_area_m2</th>\n",
       "      <td>0.005217</td>\n",
       "    </tr>\n",
       "    <tr>\n",
       "      <th>heff</th>\n",
       "      <td>0.003552</td>\n",
       "    </tr>\n",
       "    <tr>\n",
       "      <th>Y</th>\n",
       "      <td>0.002044</td>\n",
       "    </tr>\n",
       "    <tr>\n",
       "      <th>d_nkt</th>\n",
       "      <td>0.001827</td>\n",
       "    </tr>\n",
       "    <tr>\n",
       "      <th>bo</th>\n",
       "      <td>0.001803</td>\n",
       "    </tr>\n",
       "    <tr>\n",
       "      <th>Частота</th>\n",
       "      <td>0.001604</td>\n",
       "    </tr>\n",
       "    <tr>\n",
       "      <th>Скважина</th>\n",
       "      <td>0.001166</td>\n",
       "    </tr>\n",
       "    <tr>\n",
       "      <th>Давление в линии</th>\n",
       "      <td>0.000824</td>\n",
       "    </tr>\n",
       "    <tr>\n",
       "      <th>Месяцев с перевода в ППД</th>\n",
       "      <td>0.000823</td>\n",
       "    </tr>\n",
       "    <tr>\n",
       "      <th>Забойное давление</th>\n",
       "      <td>0.000611</td>\n",
       "    </tr>\n",
       "    <tr>\n",
       "      <th>Буферное давление</th>\n",
       "      <td>0.000543</td>\n",
       "    </tr>\n",
       "    <tr>\n",
       "      <th>Удлинение</th>\n",
       "      <td>0.000500</td>\n",
       "    </tr>\n",
       "    <tr>\n",
       "      <th>Плотность воды</th>\n",
       "      <td>0.000478</td>\n",
       "    </tr>\n",
       "    <tr>\n",
       "      <th>Затрубное давление</th>\n",
       "      <td>0.000413</td>\n",
       "    </tr>\n",
       "    <tr>\n",
       "      <th>Месяц</th>\n",
       "      <td>0.000402</td>\n",
       "    </tr>\n",
       "    <tr>\n",
       "      <th>Диаметр НКТ</th>\n",
       "      <td>0.000375</td>\n",
       "    </tr>\n",
       "    <tr>\n",
       "      <th>Глубина верхних дыр перфорации</th>\n",
       "      <td>0.000316</td>\n",
       "    </tr>\n",
       "    <tr>\n",
       "      <th>Давление на приеме</th>\n",
       "      <td>0.000301</td>\n",
       "    </tr>\n",
       "    <tr>\n",
       "      <th>Глубина спуска</th>\n",
       "      <td>0.000233</td>\n",
       "    </tr>\n",
       "    <tr>\n",
       "      <th>Пластовое давление</th>\n",
       "      <td>0.000212</td>\n",
       "    </tr>\n",
       "    <tr>\n",
       "      <th>Радиус контура питания_na</th>\n",
       "      <td>0.000144</td>\n",
       "    </tr>\n",
       "    <tr>\n",
       "      <th>Состояние</th>\n",
       "      <td>0.000131</td>\n",
       "    </tr>\n",
       "    <tr>\n",
       "      <th>Динамическая высота</th>\n",
       "      <td>0.000124</td>\n",
       "    </tr>\n",
       "    <tr>\n",
       "      <th>Диаметр штуцера</th>\n",
       "      <td>0.000077</td>\n",
       "    </tr>\n",
       "    <tr>\n",
       "      <th>Газовый фактор_na</th>\n",
       "      <td>0.000062</td>\n",
       "    </tr>\n",
       "    <tr>\n",
       "      <th>Обводненность_na</th>\n",
       "      <td>0.000059</td>\n",
       "    </tr>\n",
       "    <tr>\n",
       "      <th>объемный коэффициент_na</th>\n",
       "      <td>0.000028</td>\n",
       "    </tr>\n",
       "    <tr>\n",
       "      <th>Плотность нефти</th>\n",
       "      <td>0.000023</td>\n",
       "    </tr>\n",
       "    <tr>\n",
       "      <th>Диаметр штуцера_na</th>\n",
       "      <td>0.000015</td>\n",
       "    </tr>\n",
       "    <tr>\n",
       "      <th>Забойное давление_na</th>\n",
       "      <td>0.000011</td>\n",
       "    </tr>\n",
       "    <tr>\n",
       "      <th>Месяцев с ввода в эксплуатацию_na</th>\n",
       "      <td>0.000010</td>\n",
       "    </tr>\n",
       "  </tbody>\n",
       "</table>\n",
       "</div>"
      ],
      "text/plain": [
       "                                     Importance\n",
       "Feature                                        \n",
       "kprod_calc                             0.700562\n",
       "completion                             0.109508\n",
       "pres_atm                               0.106560\n",
       "Вязкость жидкости в пласт. условиях    0.034714\n",
       "Обводненность                          0.028960\n",
       "h_vert                                 0.022255\n",
       "Характер работы                        0.011983\n",
       "group                                  0.006649\n",
       "X                                      0.005381\n",
       "cell_area_m2                           0.005217\n",
       "heff                                   0.003552\n",
       "Y                                      0.002044\n",
       "d_nkt                                  0.001827\n",
       "bo                                     0.001803\n",
       "Частота                                0.001604\n",
       "Скважина                               0.001166\n",
       "Давление в линии                       0.000824\n",
       "Месяцев с перевода в ППД               0.000823\n",
       "Забойное давление                      0.000611\n",
       "Буферное давление                      0.000543\n",
       "Удлинение                              0.000500\n",
       "Плотность воды                         0.000478\n",
       "Затрубное давление                     0.000413\n",
       "Месяц                                  0.000402\n",
       "Диаметр НКТ                            0.000375\n",
       "Глубина верхних дыр перфорации         0.000316\n",
       "Давление на приеме                     0.000301\n",
       "Глубина спуска                         0.000233\n",
       "Пластовое давление                     0.000212\n",
       "Радиус контура питания_na              0.000144\n",
       "Состояние                              0.000131\n",
       "Динамическая высота                    0.000124\n",
       "Диаметр штуцера                        0.000077\n",
       "Газовый фактор_na                      0.000062\n",
       "Обводненность_na                       0.000059\n",
       "объемный коэффициент_na                0.000028\n",
       "Плотность нефти                        0.000023\n",
       "Диаметр штуцера_na                     0.000015\n",
       "Забойное давление_na                   0.000011\n",
       "Месяцев с ввода в эксплуатацию_na      0.000010"
      ]
     },
     "execution_count": 151,
     "metadata": {},
     "output_type": "execute_result"
    }
   ],
   "source": [
    "imp.head(40)"
   ]
  },
  {
   "cell_type": "code",
   "execution_count": 152,
   "metadata": {
    "scrolled": false
   },
   "outputs": [],
   "source": [
    "##Убираем из переменных вспомогательные переменные, указывающие на то, где есть NA, возникшие после обработки\n",
    "imp_cols=imp.reset_index()['Feature'].values\n",
    "imp_cols_adj=[c for c in imp_cols if c.lower()[-3:] != '_na']"
   ]
  },
  {
   "cell_type": "code",
   "execution_count": 153,
   "metadata": {},
   "outputs": [
    {
     "data": {
      "text/plain": [
       "<matplotlib.axes._subplots.AxesSubplot at 0x7fbde6d1da90>"
      ]
     },
     "execution_count": 153,
     "metadata": {},
     "output_type": "execute_result"
    },
    {
     "data": {
      "image/png": "[encoded data removed]",
      "text/plain": [
       "<Figure size 720x432 with 1 Axes>"
      ]
     },
     "metadata": {
      "needs_background": "light"
     },
     "output_type": "display_data"
    },
    {
     "data": {
      "image/png": "[encoded data removed]",
      "text/plain": [
       "<Figure size 864x504 with 1 Axes>"
      ]
     },
     "metadata": {
      "needs_background": "light"
     },
     "output_type": "display_data"
    }
   ],
   "source": [
    "#смотрим значимость переменных, и насколько быстро она убывает\n",
    "def plot_fi(fi): return fi[0:12].reset_index(drop=False).plot('Feature', 'Importance', 'barh', figsize=(12,7), legend=False)\n",
    "imp[0:10].reset_index(drop=False).plot('Feature', 'Importance', figsize=(10,6), legend=False)\n",
    "plot_fi(imp)"
   ]
  },
  {
   "cell_type": "code",
   "execution_count": 154,
   "metadata": {},
   "outputs": [],
   "source": [
    "#Запоминаем 25 и 50 самых значимых переменных по random forest в отдельные переменные\n",
    "imp_cols25=imp_cols_adj[0:25]+['Кал.месяц']+['Месяц']\n",
    "imp_cols50=imp_cols_adj[0:50]+['Кал.месяц']+['Месяц']\n",
    "#print(imp_cols25)\n",
    "#print(imp_cols50)"
   ]
  },
  {
   "cell_type": "markdown",
   "metadata": {},
   "source": [
    "## Пробуем строить более простые модели с меньшим числом переменных"
   ]
  },
  {
   "cell_type": "code",
   "execution_count": 155,
   "metadata": {},
   "outputs": [
    {
     "name": "stdout",
     "output_type": "stream",
     "text": [
      "CPU times: user 5.84 s, sys: 8 ms, total: 5.85 s\n",
      "Wall time: 1.01 s\n",
      "['MAE_trn', 'MAE_val', 'score_trn', 'score_val', 'T_var', 'OOB(if present)']\n",
      "['19.74', '102.95', '0.97', '0.40', '86.83', '0.90']\n"
     ]
    }
   ],
   "source": [
    "#выбираем используемые train и test датасеты. Здесь - используем датасеты c 50 главными переменными\n",
    "cur_train=const_train.loc[:,imp_cols50+['Нефть, м3']]\n",
    "cur_val=val_fcst.loc[:,imp_cols50+['Нефть, м3']]\n",
    "\n",
    "df_trn, y_trn, nas, mapper = proc_df(cur_train, 'Нефть, м3', do_scale=True)\n",
    "df_val, y_val, nas, mapper = proc_df(cur_val, 'Нефть, м3', do_scale=True,mapper=mapper,na_dict=nas)\n",
    "\n",
    "m_rf50 = RandomForestRegressor(n_estimators=40, max_features=0.99, min_samples_leaf=2,\n",
    "                         n_jobs=-1, oob_score=True)\n",
    "%time m_rf50.fit(df_trn, pd.DataFrame(y_trn));\n",
    "\n",
    "print_score(m_rf50)"
   ]
  },
  {
   "cell_type": "code",
   "execution_count": 156,
   "metadata": {},
   "outputs": [
    {
     "name": "stdout",
     "output_type": "stream",
     "text": [
      "CPU times: user 4.29 s, sys: 8 ms, total: 4.3 s\n",
      "Wall time: 771 ms\n",
      "['MAE_trn', 'MAE_val', 'score_trn', 'score_val', 'T_var', 'OOB(if present)']\n",
      "['21.22', '97.84', '0.97', '0.48', '96.40', '0.90']\n"
     ]
    }
   ],
   "source": [
    "#выбираем используемые train и test датасеты. Здесь - используем датасеты c 50 главными переменными\n",
    "cur_train=const_train.loc[:,imp_cols25+['Нефть, м3']]\n",
    "cur_val=val_fcst.loc[:,imp_cols25+['Нефть, м3']]\n",
    "\n",
    "df_trn, y_trn, nas, mapper = proc_df(cur_train, 'Нефть, м3', do_scale=True)\n",
    "df_val, y_val, nas, mapper = proc_df(cur_val, 'Нефть, м3', do_scale=True,mapper=mapper,na_dict=nas)\n",
    "\n",
    "m_rf25 = RandomForestRegressor(n_estimators=40, max_features=0.99, min_samples_leaf=2,\n",
    "                         n_jobs=-1, oob_score=True)\n",
    "%time m_rf25.fit(df_trn, pd.DataFrame(y_trn));\n",
    "\n",
    "print_score(m_rf25)"
   ]
  },
  {
   "cell_type": "code",
   "execution_count": 157,
   "metadata": {},
   "outputs": [],
   "source": [
    "##как видим, в более простых моделях MAE на валидационном датасете немного снизился\n",
    "##зато заметно снизилась дисперсия по деревьям, увеличилась объясняющая сила на валидационном датасете\n",
    "##также немного вырос MAE на train датасете - возможно, снизился оверфит"
   ]
  },
  {
   "cell_type": "markdown",
   "metadata": {},
   "source": [
    "## Делаем прогноз на тестовом датасете"
   ]
  },
  {
   "cell_type": "code",
   "execution_count": 158,
   "metadata": {},
   "outputs": [
    {
     "name": "stdout",
     "output_type": "stream",
     "text": [
      "CPU times: user 4.4 s, sys: 8 ms, total: 4.41 s\n",
      "Wall time: 784 ms\n"
     ]
    }
   ],
   "source": [
    "#выбираем используемые переменные для итогового прогноза\n",
    "cur_train=const_train.loc[:,imp_cols25+['Нефть, м3']]\n",
    "cur_val=val_fcst.loc[:,imp_cols25+['Нефть, м3']]\n",
    "cur_test=test_fcst.loc[:,imp_cols25]\n",
    "\n",
    "#для прогноза мы используем всю выборку train, без валидации\n",
    "cur_train_sub=all_train.loc[:,imp_cols25+['Нефть, м3']]\n",
    "\n",
    "df_trn, y_trn, nas, mapper = proc_df(cur_train, 'Нефть, м3', do_scale=True)\n",
    "df_val, y_val, nas, mapper = proc_df(cur_val, 'Нефть, м3', do_scale=True,mapper=mapper,na_dict=nas)\n",
    "df_test, _, nas, mapper = proc_df(cur_test, do_scale=True,mapper=mapper,na_dict=nas)\n",
    "df_train_sub, y_sub, nas, mapper = proc_df(cur_train_sub,'Нефть, м3',do_scale=True,mapper=mapper,na_dict=nas)\n",
    "\n",
    "m_rf25 = RandomForestRegressor(n_estimators=40, max_features=0.99, min_samples_leaf=2,\n",
    "                         n_jobs=-1, oob_score=True)\n",
    "%time m_rf25.fit(df_train_sub, pd.DataFrame(y_trn));\n",
    "\n",
    "RF25_test_preds=np.round(m_rf25.predict(df_test.values),4)"
   ]
  },
  {
   "cell_type": "code",
   "execution_count": 159,
   "metadata": {},
   "outputs": [
    {
     "name": "stdout",
     "output_type": "stream",
     "text": [
      "Итого строчек в сабмите 444\n"
     ]
    },
    {
     "data": {
      "text/html": [
       "<a href='data/Gazprom2/tmp/final_subm25.csv' target='_blank'>data/Gazprom2/tmp/final_subm25.csv</a><br>"
      ],
      "text/plain": [
       "/home/paperspace/fastai/data/Gazprom2/tmp/final_subm25.csv"
      ]
     },
     "execution_count": 159,
     "metadata": {},
     "output_type": "execute_result"
    }
   ],
   "source": [
    "sub_out25=pd.DataFrame(RF25_test_preds)\n",
    "subm_fn=f'{PATH_oil}tmp/final_subm25.csv'\n",
    "print(\"Итого строчек в сабмите\", sub_out25.shape[0])\n",
    "\n",
    "sub_out25.to_csv(subm_fn, index=True,encoding=\"cp1251\",header=False)\n",
    "FileLink(subm_fn)"
   ]
  }
 ],
 "metadata": {
  "kernelspec": {
   "display_name": "Python 3",
   "language": "python",
   "name": "python3"
  },
  "language_info": {
   "codemirror_mode": {
    "name": "ipython",
    "version": 3
   },
   "file_extension": ".py",
   "mimetype": "text/x-python",
   "name": "python",
   "nbconvert_exporter": "python",
   "pygments_lexer": "ipython3",
   "version": "3.6.6"
  }
 },
 "nbformat": 4,
 "nbformat_minor": 2
}
